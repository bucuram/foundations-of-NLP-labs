{
  "nbformat": 4,
  "nbformat_minor": 0,
  "metadata": {
    "colab": {
      "name": "Untitled4.ipynb",
      "provenance": [],
      "collapsed_sections": [],
      "authorship_tag": "ABX9TyMwQZypSKwJWlNi4FHbUfjW",
      "include_colab_link": true
    },
    "kernelspec": {
      "name": "python3",
      "display_name": "Python 3"
    },
    "language_info": {
      "name": "python"
    }
  },
  "cells": [
    {
      "cell_type": "markdown",
      "metadata": {
        "id": "view-in-github",
        "colab_type": "text"
      },
      "source": [
        "<a href=\"https://colab.research.google.com/github/bucuram/foundations-of-NLP-labs/blob/main/Lab1.ipynb\" target=\"_parent\"><img src=\"https://colab.research.google.com/assets/colab-badge.svg\" alt=\"Open In Colab\"/></a>"
      ]
    },
    {
      "cell_type": "code",
      "metadata": {
        "id": "74sV0iAsqoIE"
      },
      "source": [
        ""
      ],
      "execution_count": null,
      "outputs": []
    },
    {
      "cell_type": "markdown",
      "metadata": {
        "id": "FRGRkJHvsv9c"
      },
      "source": [
        "Normalization\n",
        "Lematization/Stemming\n"
      ]
    },
    {
      "cell_type": "markdown",
      "metadata": {
        "id": "NJVRbwS8sx7p"
      },
      "source": [
        "Tokenization"
      ]
    },
    {
      "cell_type": "markdown",
      "metadata": {
        "id": "Jbh3_a7nszGF"
      },
      "source": [
        "Further reading:\n",
        "\n",
        "\n",
        "\n",
        "*   [On learning and representing social meaning in NLP:\n",
        "a sociolinguistic perspective](https://aclanthology.org/2021.naacl-main.50.pdf)\n",
        "*   List item\n",
        "\n"
      ]
    }
  ]
}