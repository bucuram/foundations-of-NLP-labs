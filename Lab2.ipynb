{
  "nbformat": 4,
  "nbformat_minor": 0,
  "metadata": {
    "colab": {
      "name": "Lab2.ipynb",
      "provenance": [],
      "collapsed_sections": [],
      "include_colab_link": true
    },
    "kernelspec": {
      "name": "python3",
      "display_name": "Python 3"
    },
    "language_info": {
      "name": "python"
    }
  },
  "cells": [
    {
      "cell_type": "markdown",
      "metadata": {
        "id": "view-in-github",
        "colab_type": "text"
      },
      "source": [
        "<a href=\"https://colab.research.google.com/github/bucuram/foundations-of-NLP-labs/blob/main/Lab2.ipynb\" target=\"_parent\"><img src=\"https://colab.research.google.com/assets/colab-badge.svg\" alt=\"Open In Colab\"/></a>"
      ]
    },
    {
      "cell_type": "markdown",
      "metadata": {
        "id": "g1bls46SNnk0"
      },
      "source": [
        "# Text Preprocessing for non-English languages\n",
        "\n",
        "##Challenges\n",
        "* Diacritics restoration \n",
        "* Text segmentation for Chinese, Japanese, Arabic\n",
        "* You may need to have some knowledge about the language\n",
        "\n",
        "\n",
        "\n"
      ]
    },
    {
      "cell_type": "markdown",
      "metadata": {
        "id": "Eee1lFEWQgq9"
      },
      "source": [
        "##Case studies"
      ]
    },
    {
      "cell_type": "markdown",
      "metadata": {
        "id": "eu6CzKPSQof-"
      },
      "source": [
        "###Romanian\n"
      ]
    },
    {
      "cell_type": "code",
      "metadata": {
        "colab": {
          "base_uri": "https://localhost:8080/"
        },
        "id": "_nWQUPlZaKR7",
        "outputId": "8e3a8c3f-4d8e-4b60-fbec-7cf591edeff8"
      },
      "source": [
        "from pprint import pprint\n",
        "\n",
        "romanian_text = '''Examenul Chunin începe 25. A zecea întrebare: Totul sau nimic!\n",
        "    Excepţie a făcut-o Hotinul, unde s-a aşezat o garnizoană turcească, care a început să jefuiască cu cruzime ţara.\n",
        "    Excitarea catatonică este o stare de agitaţie constantă şi de excitare motrică şi nervoasă.\n",
        "    Excreţiile parazitului irită pielea prpducând mâncărime şi răni produse de scărpinat, iau naştere papule, vezicule, pustule, infiltraţii, acestea prin infecţii secundare, se pot transforma în furunculi.\n",
        "    Executarea tabloului este precedată de o întreagă serie de schiţe.\n",
        "    Execuţia acestei lucrări a început în anul 1957 şi s-a finalizat în anul urmator.\n",
        "    Exemple de mesaje au fost eliminarea unui al doilea membru al tribului după ce a fost eliminat unul sau evitarea participării la Consiliul Tribal, dar cu preţul mutării intr-o locaţie mai puţin confortabilă.\n",
        "    Exemple de specii din grupul calmarilor pot servi Loligo vulgaris, Ommastrephes sagittatus, Ommastrephes slosnei pacificus, Chiroteuthis veranyi etc. Unele specii sunt exploatate pentru carnea lor comestibilă\n",
        "    '''\n",
        "pprint(romanian_text)"
      ],
      "execution_count": 2,
      "outputs": [
        {
          "output_type": "stream",
          "name": "stdout",
          "text": [
            "('Examenul Chunin începe 25. A zecea întrebare: Totul sau nimic!\\n'\n",
            " '    Excepţie a făcut-o Hotinul, unde s-a aşezat o garnizoană turcească, care '\n",
            " 'a început să jefuiască cu cruzime ţara.\\n'\n",
            " '    Excitarea catatonică este o stare de agitaţie constantă şi de excitare '\n",
            " 'motrică şi nervoasă.\\n'\n",
            " '    Excreţiile parazitului irită pielea prpducând mâncărime şi răni produse '\n",
            " 'de scărpinat, iau naştere papule, vezicule, pustule, infiltraţii, acestea '\n",
            " 'prin infecţii secundare, se pot transforma în furunculi.\\n'\n",
            " '    Executarea tabloului este precedată de o întreagă serie de schiţe.\\n'\n",
            " '    Execuţia acestei lucrări a început în anul 1957 şi s-a finalizat în anul '\n",
            " 'urmator.\\n'\n",
            " '    Exemple de mesaje au fost eliminarea unui al doilea membru al tribului '\n",
            " 'după ce a fost eliminat unul sau evitarea participării la Consiliul Tribal, '\n",
            " 'dar cu preţul mutării intr-o locaţie mai puţin confortabilă.\\n'\n",
            " '    Exemple de specii din grupul calmarilor pot servi Loligo vulgaris, '\n",
            " 'Ommastrephes sagittatus, Ommastrephes slosnei pacificus, Chiroteuthis '\n",
            " 'veranyi etc. Unele specii sunt exploatate pentru carnea lor comestibilă\\n'\n",
            " '    ')\n"
          ]
        }
      ]
    },
    {
      "cell_type": "markdown",
      "metadata": {
        "id": "e3SwK7ZIa3Gt"
      },
      "source": [
        "Lowercasing text"
      ]
    },
    {
      "cell_type": "code",
      "metadata": {
        "colab": {
          "base_uri": "https://localhost:8080/"
        },
        "id": "YIrLujmWa5Mb",
        "outputId": "dfc5ecd9-d087-46fa-a3ee-e78d46abf896"
      },
      "source": [
        "romanian_text = romanian_text.lower()\n",
        "pprint(romanian_text)"
      ],
      "execution_count": 3,
      "outputs": [
        {
          "output_type": "stream",
          "name": "stdout",
          "text": [
            "('examenul chunin începe 25. a zecea întrebare: totul sau nimic!\\n'\n",
            " '    excepţie a făcut-o hotinul, unde s-a aşezat o garnizoană turcească, care '\n",
            " 'a început să jefuiască cu cruzime ţara.\\n'\n",
            " '    excitarea catatonică este o stare de agitaţie constantă şi de excitare '\n",
            " 'motrică şi nervoasă.\\n'\n",
            " '    excreţiile parazitului irită pielea prpducând mâncărime şi răni produse '\n",
            " 'de scărpinat, iau naştere papule, vezicule, pustule, infiltraţii, acestea '\n",
            " 'prin infecţii secundare, se pot transforma în furunculi.\\n'\n",
            " '    executarea tabloului este precedată de o întreagă serie de schiţe.\\n'\n",
            " '    execuţia acestei lucrări a început în anul 1957 şi s-a finalizat în anul '\n",
            " 'urmator.\\n'\n",
            " '    exemple de mesaje au fost eliminarea unui al doilea membru al tribului '\n",
            " 'după ce a fost eliminat unul sau evitarea participării la consiliul tribal, '\n",
            " 'dar cu preţul mutării intr-o locaţie mai puţin confortabilă.\\n'\n",
            " '    exemple de specii din grupul calmarilor pot servi loligo vulgaris, '\n",
            " 'ommastrephes sagittatus, ommastrephes slosnei pacificus, chiroteuthis '\n",
            " 'veranyi etc. unele specii sunt exploatate pentru carnea lor comestibilă\\n'\n",
            " '    ')\n"
          ]
        }
      ]
    },
    {
      "cell_type": "markdown",
      "metadata": {
        "id": "qBJNRbnzbAIe"
      },
      "source": [
        "Removing digits"
      ]
    },
    {
      "cell_type": "code",
      "metadata": {
        "colab": {
          "base_uri": "https://localhost:8080/"
        },
        "id": "EmFfE5VSbCHo",
        "outputId": "5e94679e-32b6-476f-c23f-467b63b076f4"
      },
      "source": [
        "import re\n",
        "\n",
        "romanian_text = re.sub(' \\d+', '', romanian_text)\n",
        "pprint(romanian_text)"
      ],
      "execution_count": 5,
      "outputs": [
        {
          "output_type": "stream",
          "name": "stdout",
          "text": [
            "('examenul chunin începe. a zecea întrebare: totul sau nimic!\\n'\n",
            " '    excepţie a făcut-o hotinul, unde s-a aşezat o garnizoană turcească, care '\n",
            " 'a început să jefuiască cu cruzime ţara.\\n'\n",
            " '    excitarea catatonică este o stare de agitaţie constantă şi de excitare '\n",
            " 'motrică şi nervoasă.\\n'\n",
            " '    excreţiile parazitului irită pielea prpducând mâncărime şi răni produse '\n",
            " 'de scărpinat, iau naştere papule, vezicule, pustule, infiltraţii, acestea '\n",
            " 'prin infecţii secundare, se pot transforma în furunculi.\\n'\n",
            " '    executarea tabloului este precedată de o întreagă serie de schiţe.\\n'\n",
            " '    execuţia acestei lucrări a început în anul şi s-a finalizat în anul '\n",
            " 'urmator.\\n'\n",
            " '    exemple de mesaje au fost eliminarea unui al doilea membru al tribului '\n",
            " 'după ce a fost eliminat unul sau evitarea participării la consiliul tribal, '\n",
            " 'dar cu preţul mutării intr-o locaţie mai puţin confortabilă.\\n'\n",
            " '    exemple de specii din grupul calmarilor pot servi loligo vulgaris, '\n",
            " 'ommastrephes sagittatus, ommastrephes slosnei pacificus, chiroteuthis '\n",
            " 'veranyi etc. unele specii sunt exploatate pentru carnea lor comestibilă\\n'\n",
            " '    ')\n"
          ]
        }
      ]
    },
    {
      "cell_type": "markdown",
      "metadata": {
        "id": "D3vte5EFb7x0"
      },
      "source": [
        "Removing diacritics using [Unidecode](https://pypi.org/project/Unidecode/)"
      ]
    },
    {
      "cell_type": "code",
      "metadata": {
        "colab": {
          "base_uri": "https://localhost:8080/"
        },
        "id": "sOxU-1bXcGBv",
        "outputId": "1cc470be-11cf-4d19-833f-77dea6722ca1"
      },
      "source": [
        "!pip install unidecode"
      ],
      "execution_count": 11,
      "outputs": [
        {
          "output_type": "stream",
          "name": "stdout",
          "text": [
            "Collecting unidecode\n",
            "  Downloading Unidecode-1.3.2-py3-none-any.whl (235 kB)\n",
            "\u001b[?25l\r\u001b[K     |█▍                              | 10 kB 26.9 MB/s eta 0:00:01\r\u001b[K     |██▉                             | 20 kB 35.3 MB/s eta 0:00:01\r\u001b[K     |████▏                           | 30 kB 21.8 MB/s eta 0:00:01\r\u001b[K     |█████▋                          | 40 kB 20.3 MB/s eta 0:00:01\r\u001b[K     |███████                         | 51 kB 16.7 MB/s eta 0:00:01\r\u001b[K     |████████▍                       | 61 kB 11.5 MB/s eta 0:00:01\r\u001b[K     |█████████▊                      | 71 kB 12.7 MB/s eta 0:00:01\r\u001b[K     |███████████▏                    | 81 kB 14.1 MB/s eta 0:00:01\r\u001b[K     |████████████▌                   | 92 kB 14.3 MB/s eta 0:00:01\r\u001b[K     |██████████████                  | 102 kB 13.6 MB/s eta 0:00:01\r\u001b[K     |███████████████▎                | 112 kB 13.6 MB/s eta 0:00:01\r\u001b[K     |████████████████▊               | 122 kB 13.6 MB/s eta 0:00:01\r\u001b[K     |██████████████████              | 133 kB 13.6 MB/s eta 0:00:01\r\u001b[K     |███████████████████▌            | 143 kB 13.6 MB/s eta 0:00:01\r\u001b[K     |████████████████████▉           | 153 kB 13.6 MB/s eta 0:00:01\r\u001b[K     |██████████████████████▎         | 163 kB 13.6 MB/s eta 0:00:01\r\u001b[K     |███████████████████████▋        | 174 kB 13.6 MB/s eta 0:00:01\r\u001b[K     |█████████████████████████       | 184 kB 13.6 MB/s eta 0:00:01\r\u001b[K     |██████████████████████████▍     | 194 kB 13.6 MB/s eta 0:00:01\r\u001b[K     |███████████████████████████▉    | 204 kB 13.6 MB/s eta 0:00:01\r\u001b[K     |█████████████████████████████▏  | 215 kB 13.6 MB/s eta 0:00:01\r\u001b[K     |██████████████████████████████▋ | 225 kB 13.6 MB/s eta 0:00:01\r\u001b[K     |████████████████████████████████| 235 kB 13.6 MB/s eta 0:00:01\r\u001b[K     |████████████████████████████████| 235 kB 13.6 MB/s \n",
            "\u001b[?25hInstalling collected packages: unidecode\n",
            "Successfully installed unidecode-1.3.2\n"
          ]
        }
      ]
    },
    {
      "cell_type": "code",
      "metadata": {
        "colab": {
          "base_uri": "https://localhost:8080/"
        },
        "id": "N2LOnLH5b9nZ",
        "outputId": "2ffc5b3a-9e7f-4ef7-a534-2ad8569efcf5"
      },
      "source": [
        "import unidecode\n",
        "romanian_text  = unidecode.unidecode(romanian_text)\n",
        "pprint(romanian_text)"
      ],
      "execution_count": 19,
      "outputs": [
        {
          "output_type": "stream",
          "name": "stdout",
          "text": [
            "('examenul chunin incepe. a zecea intrebare: totul sau nimic!\\n'\n",
            " '    exceptie a facut-o hotinul, unde s-a asezat o garnizoana turceasca, care '\n",
            " 'a inceput sa jefuiasca cu cruzime tara.\\n'\n",
            " '    excitarea catatonica este o stare de agitatie constanta si de excitare '\n",
            " 'motrica si nervoasa.\\n'\n",
            " '    excretiile parazitului irita pielea prpducand mancarime si rani produse '\n",
            " 'de scarpinat, iau nastere papule, vezicule, pustule, infiltratii, acestea '\n",
            " 'prin infectii secundare, se pot transforma in furunculi.\\n'\n",
            " '    executarea tabloului este precedata de o intreaga serie de schite.\\n'\n",
            " '    executia acestei lucrari a inceput in anul si s-a finalizat in anul '\n",
            " 'urmator.\\n'\n",
            " '    exemple de mesaje au fost eliminarea unui al doilea membru al tribului '\n",
            " 'dupa ce a fost eliminat unul sau evitarea participarii la consiliul tribal, '\n",
            " 'dar cu pretul mutarii intr-o locatie mai putin confortabila.\\n'\n",
            " '    exemple de specii din grupul calmarilor pot servi loligo vulgaris, '\n",
            " 'ommastrephes sagittatus, ommastrephes slosnei pacificus, chiroteuthis '\n",
            " 'veranyi etc. unele specii sunt exploatate pentru carnea lor comestibila\\n'\n",
            " '    ')\n"
          ]
        }
      ]
    },
    {
      "cell_type": "markdown",
      "metadata": {
        "id": "Nu_mud4-bMoA"
      },
      "source": [
        "Sentence tokenization"
      ]
    },
    {
      "cell_type": "code",
      "metadata": {
        "colab": {
          "base_uri": "https://localhost:8080/"
        },
        "id": "zP9KEQgmbRey",
        "outputId": "1b5c96f3-51f9-4adb-df19-d7e27a55d341"
      },
      "source": [
        "from nltk import sent_tokenize\n",
        "import nltk\n",
        "nltk.download('punkt')\n",
        "\n",
        "sent_romanian = sent_tokenize(romanian_text)\n",
        "sent_romanian "
      ],
      "execution_count": 20,
      "outputs": [
        {
          "output_type": "stream",
          "name": "stdout",
          "text": [
            "[nltk_data] Downloading package punkt to /root/nltk_data...\n",
            "[nltk_data]   Package punkt is already up-to-date!\n"
          ]
        },
        {
          "output_type": "execute_result",
          "data": {
            "text/plain": [
              "['examenul chunin incepe.',\n",
              " 'a zecea intrebare: totul sau nimic!',\n",
              " 'exceptie a facut-o hotinul, unde s-a asezat o garnizoana turceasca, care a inceput sa jefuiasca cu cruzime tara.',\n",
              " 'excitarea catatonica este o stare de agitatie constanta si de excitare motrica si nervoasa.',\n",
              " 'excretiile parazitului irita pielea prpducand mancarime si rani produse de scarpinat, iau nastere papule, vezicule, pustule, infiltratii, acestea prin infectii secundare, se pot transforma in furunculi.',\n",
              " 'executarea tabloului este precedata de o intreaga serie de schite.',\n",
              " 'executia acestei lucrari a inceput in anul si s-a finalizat in anul urmator.',\n",
              " 'exemple de mesaje au fost eliminarea unui al doilea membru al tribului dupa ce a fost eliminat unul sau evitarea participarii la consiliul tribal, dar cu pretul mutarii intr-o locatie mai putin confortabila.',\n",
              " 'exemple de specii din grupul calmarilor pot servi loligo vulgaris, ommastrephes sagittatus, ommastrephes slosnei pacificus, chiroteuthis veranyi etc.',\n",
              " 'unele specii sunt exploatate pentru carnea lor comestibila']"
            ]
          },
          "metadata": {},
          "execution_count": 20
        }
      ]
    },
    {
      "cell_type": "markdown",
      "metadata": {
        "id": "JAhei-_DbuMB"
      },
      "source": [
        "Word tokenization"
      ]
    },
    {
      "cell_type": "code",
      "metadata": {
        "colab": {
          "base_uri": "https://localhost:8080/"
        },
        "id": "KZSvPmlVdYZH",
        "outputId": "2c442110-a994-47be-9cb9-fa5f975a952c"
      },
      "source": [
        "from nltk import word_tokenize\n",
        "import string\n",
        "\n",
        "\n",
        "sent_romanian = [sent.translate(str.maketrans('', '', string.punctuation)) for sent in sent_romanian]\n",
        "\n",
        "words_romanian = [[word_tokenize(sent) for sent in sent_romanian]]\n",
        "pprint(words_romanian) "
      ],
      "execution_count": 21,
      "outputs": [
        {
          "output_type": "stream",
          "name": "stdout",
          "text": [
            "[[['examenul', 'chunin', 'incepe'],\n",
            "  ['a', 'zecea', 'intrebare', 'totul', 'sau', 'nimic'],\n",
            "  ['exceptie',\n",
            "   'a',\n",
            "   'facuto',\n",
            "   'hotinul',\n",
            "   'unde',\n",
            "   'sa',\n",
            "   'asezat',\n",
            "   'o',\n",
            "   'garnizoana',\n",
            "   'turceasca',\n",
            "   'care',\n",
            "   'a',\n",
            "   'inceput',\n",
            "   'sa',\n",
            "   'jefuiasca',\n",
            "   'cu',\n",
            "   'cruzime',\n",
            "   'tara'],\n",
            "  ['excitarea',\n",
            "   'catatonica',\n",
            "   'este',\n",
            "   'o',\n",
            "   'stare',\n",
            "   'de',\n",
            "   'agitatie',\n",
            "   'constanta',\n",
            "   'si',\n",
            "   'de',\n",
            "   'excitare',\n",
            "   'motrica',\n",
            "   'si',\n",
            "   'nervoasa'],\n",
            "  ['excretiile',\n",
            "   'parazitului',\n",
            "   'irita',\n",
            "   'pielea',\n",
            "   'prpducand',\n",
            "   'mancarime',\n",
            "   'si',\n",
            "   'rani',\n",
            "   'produse',\n",
            "   'de',\n",
            "   'scarpinat',\n",
            "   'iau',\n",
            "   'nastere',\n",
            "   'papule',\n",
            "   'vezicule',\n",
            "   'pustule',\n",
            "   'infiltratii',\n",
            "   'acestea',\n",
            "   'prin',\n",
            "   'infectii',\n",
            "   'secundare',\n",
            "   'se',\n",
            "   'pot',\n",
            "   'transforma',\n",
            "   'in',\n",
            "   'furunculi'],\n",
            "  ['executarea',\n",
            "   'tabloului',\n",
            "   'este',\n",
            "   'precedata',\n",
            "   'de',\n",
            "   'o',\n",
            "   'intreaga',\n",
            "   'serie',\n",
            "   'de',\n",
            "   'schite'],\n",
            "  ['executia',\n",
            "   'acestei',\n",
            "   'lucrari',\n",
            "   'a',\n",
            "   'inceput',\n",
            "   'in',\n",
            "   'anul',\n",
            "   'si',\n",
            "   'sa',\n",
            "   'finalizat',\n",
            "   'in',\n",
            "   'anul',\n",
            "   'urmator'],\n",
            "  ['exemple',\n",
            "   'de',\n",
            "   'mesaje',\n",
            "   'au',\n",
            "   'fost',\n",
            "   'eliminarea',\n",
            "   'unui',\n",
            "   'al',\n",
            "   'doilea',\n",
            "   'membru',\n",
            "   'al',\n",
            "   'tribului',\n",
            "   'dupa',\n",
            "   'ce',\n",
            "   'a',\n",
            "   'fost',\n",
            "   'eliminat',\n",
            "   'unul',\n",
            "   'sau',\n",
            "   'evitarea',\n",
            "   'participarii',\n",
            "   'la',\n",
            "   'consiliul',\n",
            "   'tribal',\n",
            "   'dar',\n",
            "   'cu',\n",
            "   'pretul',\n",
            "   'mutarii',\n",
            "   'intro',\n",
            "   'locatie',\n",
            "   'mai',\n",
            "   'putin',\n",
            "   'confortabila'],\n",
            "  ['exemple',\n",
            "   'de',\n",
            "   'specii',\n",
            "   'din',\n",
            "   'grupul',\n",
            "   'calmarilor',\n",
            "   'pot',\n",
            "   'servi',\n",
            "   'loligo',\n",
            "   'vulgaris',\n",
            "   'ommastrephes',\n",
            "   'sagittatus',\n",
            "   'ommastrephes',\n",
            "   'slosnei',\n",
            "   'pacificus',\n",
            "   'chiroteuthis',\n",
            "   'veranyi',\n",
            "   'etc'],\n",
            "  ['unele',\n",
            "   'specii',\n",
            "   'sunt',\n",
            "   'exploatate',\n",
            "   'pentru',\n",
            "   'carnea',\n",
            "   'lor',\n",
            "   'comestibila']]]\n"
          ]
        }
      ]
    },
    {
      "cell_type": "markdown",
      "metadata": {
        "id": "f14iGgZq-7cW"
      },
      "source": [
        "spaCy on Romanian text"
      ]
    },
    {
      "cell_type": "markdown",
      "metadata": {
        "id": "Rjn9U8a5Qqxm"
      },
      "source": [
        "###Japanese \n",
        "\n",
        "[Japanese punctuation](https://en.wikipedia.org/wiki/Japanese_punctuation)"
      ]
    },
    {
      "cell_type": "code",
      "metadata": {
        "id": "ajsK1qxrGu4S"
      },
      "source": [
        "japanese_text = '''$100ベットしていた場合には$100の配当を得られる。\n",
        "    なお、100形のうち101 - 110の10両は当時丸ノ内線方南町支線用であり 、これの代替には1500N形投入により2000形を10両 (2031 - 2040) 捻出して対応している。\n",
        "    コンセプトは「100時間遊べるおまけ」。\n",
        "    なお100系1･2次車の床面高さは従前通りの1150mmである。\n",
        "    ゴチ10・12・15ではMCを担当。\n",
        "    ! 101番目の魔物 （ 大海恵 ） 2005年 * 劇場版 金色のガッシュベル!\n",
        "    1088年に誕生した人物及び著名な動物 。'''"
      ],
      "execution_count": 4,
      "outputs": []
    },
    {
      "cell_type": "markdown",
      "metadata": {
        "id": "gMzZlhIcHaDM"
      },
      "source": [
        "Removing digits"
      ]
    },
    {
      "cell_type": "code",
      "metadata": {
        "colab": {
          "base_uri": "https://localhost:8080/",
          "height": 53
        },
        "id": "At5P_Fd-Hb_y",
        "outputId": "e554fcad-33aa-4d45-bf9f-a7bc43cc84f7"
      },
      "source": [
        "import re\n",
        "\n",
        "japanese_text = re.sub(' \\d+', '', japanese_text)\n",
        "japanese_text"
      ],
      "execution_count": 13,
      "outputs": [
        {
          "output_type": "execute_result",
          "data": {
            "application/vnd.google.colaboratory.intrinsic+json": {
              "type": "string"
            },
            "text/plain": [
              "'$100ベットしていた場合には$100の配当を得られる。\\n    なお、100形のうち101 -の10両は当時丸ノ内線方南町支線用であり 、これの代替には1500N形投入により2000形を10両 (2031 -) 捻出して対応している。\\n    コンセプトは「100時間遊べるおまけ」。\\n    なお100系1･2次車の床面高さは従前通りの1150mmである。\\n    ゴチ10・12・15ではMCを担当。\\n    !番目の魔物 （ 大海恵 ）年 * 劇場版 金色のガッシュベル!\\n   年に誕生した人物及び著名な動物 。'"
            ]
          },
          "metadata": {},
          "execution_count": 13
        }
      ]
    },
    {
      "cell_type": "code",
      "metadata": {
        "colab": {
          "base_uri": "https://localhost:8080/"
        },
        "id": "vBN4bFN0gB48",
        "outputId": "a1b4da41-4828-4034-84cd-4416c292eef8"
      },
      "source": [
        "!pip install mecab-python3"
      ],
      "execution_count": 23,
      "outputs": [
        {
          "output_type": "stream",
          "name": "stdout",
          "text": [
            "Collecting mecab-python3\n",
            "  Downloading mecab_python3-1.0.4-cp37-cp37m-manylinux_2_5_x86_64.manylinux1_x86_64.whl (488 kB)\n",
            "\u001b[K     |████████████████████████████████| 488 kB 13.6 MB/s \n",
            "\u001b[?25hInstalling collected packages: mecab-python3\n",
            "Successfully installed mecab-python3-1.0.4\n"
          ]
        }
      ]
    },
    {
      "cell_type": "code",
      "metadata": {
        "colab": {
          "base_uri": "https://localhost:8080/"
        },
        "id": "NXhJJWhNgS-b",
        "outputId": "586c2fbb-5ed4-4144-ac41-8c598232e65f"
      },
      "source": [
        "!pip install fugashi[unidic-lite]"
      ],
      "execution_count": 25,
      "outputs": [
        {
          "output_type": "stream",
          "name": "stdout",
          "text": [
            "Collecting fugashi[unidic-lite]\n",
            "  Downloading fugashi-1.1.1-cp37-cp37m-manylinux_2_5_x86_64.manylinux1_x86_64.whl (490 kB)\n",
            "\u001b[?25l\r\u001b[K     |▊                               | 10 kB 34.2 MB/s eta 0:00:01\r\u001b[K     |█▍                              | 20 kB 40.4 MB/s eta 0:00:01\r\u001b[K     |██                              | 30 kB 33.2 MB/s eta 0:00:01\r\u001b[K     |██▊                             | 40 kB 20.8 MB/s eta 0:00:01\r\u001b[K     |███▍                            | 51 kB 16.9 MB/s eta 0:00:01\r\u001b[K     |████                            | 61 kB 12.2 MB/s eta 0:00:01\r\u001b[K     |████▊                           | 71 kB 13.6 MB/s eta 0:00:01\r\u001b[K     |█████▍                          | 81 kB 15.1 MB/s eta 0:00:01\r\u001b[K     |██████                          | 92 kB 14.0 MB/s eta 0:00:01\r\u001b[K     |██████▊                         | 102 kB 14.0 MB/s eta 0:00:01\r\u001b[K     |███████▍                        | 112 kB 14.0 MB/s eta 0:00:01\r\u001b[K     |████████                        | 122 kB 14.0 MB/s eta 0:00:01\r\u001b[K     |████████▊                       | 133 kB 14.0 MB/s eta 0:00:01\r\u001b[K     |█████████▍                      | 143 kB 14.0 MB/s eta 0:00:01\r\u001b[K     |██████████                      | 153 kB 14.0 MB/s eta 0:00:01\r\u001b[K     |██████████▊                     | 163 kB 14.0 MB/s eta 0:00:01\r\u001b[K     |███████████▍                    | 174 kB 14.0 MB/s eta 0:00:01\r\u001b[K     |████████████                    | 184 kB 14.0 MB/s eta 0:00:01\r\u001b[K     |████████████▊                   | 194 kB 14.0 MB/s eta 0:00:01\r\u001b[K     |█████████████▍                  | 204 kB 14.0 MB/s eta 0:00:01\r\u001b[K     |██████████████                  | 215 kB 14.0 MB/s eta 0:00:01\r\u001b[K     |██████████████▊                 | 225 kB 14.0 MB/s eta 0:00:01\r\u001b[K     |███████████████▍                | 235 kB 14.0 MB/s eta 0:00:01\r\u001b[K     |████████████████                | 245 kB 14.0 MB/s eta 0:00:01\r\u001b[K     |████████████████▊               | 256 kB 14.0 MB/s eta 0:00:01\r\u001b[K     |█████████████████▍              | 266 kB 14.0 MB/s eta 0:00:01\r\u001b[K     |██████████████████              | 276 kB 14.0 MB/s eta 0:00:01\r\u001b[K     |██████████████████▊             | 286 kB 14.0 MB/s eta 0:00:01\r\u001b[K     |███████████████████▍            | 296 kB 14.0 MB/s eta 0:00:01\r\u001b[K     |████████████████████            | 307 kB 14.0 MB/s eta 0:00:01\r\u001b[K     |████████████████████▊           | 317 kB 14.0 MB/s eta 0:00:01\r\u001b[K     |█████████████████████▍          | 327 kB 14.0 MB/s eta 0:00:01\r\u001b[K     |██████████████████████          | 337 kB 14.0 MB/s eta 0:00:01\r\u001b[K     |██████████████████████▊         | 348 kB 14.0 MB/s eta 0:00:01\r\u001b[K     |███████████████████████▍        | 358 kB 14.0 MB/s eta 0:00:01\r\u001b[K     |████████████████████████        | 368 kB 14.0 MB/s eta 0:00:01\r\u001b[K     |████████████████████████▊       | 378 kB 14.0 MB/s eta 0:00:01\r\u001b[K     |█████████████████████████▍      | 389 kB 14.0 MB/s eta 0:00:01\r\u001b[K     |██████████████████████████      | 399 kB 14.0 MB/s eta 0:00:01\r\u001b[K     |██████████████████████████▊     | 409 kB 14.0 MB/s eta 0:00:01\r\u001b[K     |███████████████████████████▍    | 419 kB 14.0 MB/s eta 0:00:01\r\u001b[K     |████████████████████████████    | 430 kB 14.0 MB/s eta 0:00:01\r\u001b[K     |████████████████████████████▊   | 440 kB 14.0 MB/s eta 0:00:01\r\u001b[K     |█████████████████████████████▍  | 450 kB 14.0 MB/s eta 0:00:01\r\u001b[K     |██████████████████████████████  | 460 kB 14.0 MB/s eta 0:00:01\r\u001b[K     |██████████████████████████████▊ | 471 kB 14.0 MB/s eta 0:00:01\r\u001b[K     |███████████████████████████████▍| 481 kB 14.0 MB/s eta 0:00:01\r\u001b[K     |████████████████████████████████| 490 kB 14.0 MB/s \n",
            "\u001b[?25hCollecting unidic-lite\n",
            "  Downloading unidic-lite-1.0.8.tar.gz (47.4 MB)\n",
            "\u001b[K     |████████████████████████████████| 47.4 MB 46 kB/s \n",
            "\u001b[?25hBuilding wheels for collected packages: unidic-lite\n",
            "  Building wheel for unidic-lite (setup.py) ... \u001b[?25l\u001b[?25hdone\n",
            "  Created wheel for unidic-lite: filename=unidic_lite-1.0.8-py3-none-any.whl size=47658836 sha256=2612be88d9d0b40b0893c0a7e327e99f142444ada90c990a91763763d1ca4ec2\n",
            "  Stored in directory: /root/.cache/pip/wheels/de/69/b1/112140b599f2b13f609d485a99e357ba68df194d2079c5b1a2\n",
            "Successfully built unidic-lite\n",
            "Installing collected packages: unidic-lite, fugashi\n",
            "Successfully installed fugashi-1.1.1 unidic-lite-1.0.8\n"
          ]
        }
      ]
    },
    {
      "cell_type": "code",
      "metadata": {
        "colab": {
          "base_uri": "https://localhost:8080/"
        },
        "id": "Ua13p15FEPIR",
        "outputId": "1bc4d8c9-293f-4826-abca-471e0acd78f8"
      },
      "source": [
        "!pip install -U pip setuptools wheel\n",
        "!pip install -U spacy\n",
        "!python -m spacy download ja_core_news_sm"
      ],
      "execution_count": 1,
      "outputs": [
        {
          "output_type": "stream",
          "name": "stdout",
          "text": [
            "Requirement already satisfied: pip in /usr/local/lib/python3.7/dist-packages (21.3)\n",
            "Requirement already satisfied: setuptools in /usr/local/lib/python3.7/dist-packages (58.2.0)\n",
            "Requirement already satisfied: wheel in /usr/local/lib/python3.7/dist-packages (0.37.0)\n",
            "\u001b[33mWARNING: Running pip as the 'root' user can result in broken permissions and conflicting behaviour with the system package manager. It is recommended to use a virtual environment instead: https://pip.pypa.io/warnings/venv\u001b[0m\n",
            "Requirement already satisfied: spacy in /usr/local/lib/python3.7/dist-packages (3.1.3)\n",
            "Requirement already satisfied: packaging>=20.0 in /usr/local/lib/python3.7/dist-packages (from spacy) (21.0)\n",
            "Requirement already satisfied: tqdm<5.0.0,>=4.38.0 in /usr/local/lib/python3.7/dist-packages (from spacy) (4.62.3)\n",
            "Requirement already satisfied: murmurhash<1.1.0,>=0.28.0 in /usr/local/lib/python3.7/dist-packages (from spacy) (1.0.5)\n",
            "Requirement already satisfied: typer<0.5.0,>=0.3.0 in /usr/local/lib/python3.7/dist-packages (from spacy) (0.4.0)\n",
            "Requirement already satisfied: blis<0.8.0,>=0.4.0 in /usr/local/lib/python3.7/dist-packages (from spacy) (0.4.1)\n",
            "Requirement already satisfied: srsly<3.0.0,>=2.4.1 in /usr/local/lib/python3.7/dist-packages (from spacy) (2.4.1)\n",
            "Requirement already satisfied: jinja2 in /usr/local/lib/python3.7/dist-packages (from spacy) (2.11.3)\n",
            "Requirement already satisfied: pathy>=0.3.5 in /usr/local/lib/python3.7/dist-packages (from spacy) (0.6.0)\n",
            "Requirement already satisfied: numpy>=1.15.0 in /usr/local/lib/python3.7/dist-packages (from spacy) (1.19.5)\n",
            "Requirement already satisfied: requests<3.0.0,>=2.13.0 in /usr/local/lib/python3.7/dist-packages (from spacy) (2.23.0)\n",
            "Requirement already satisfied: pydantic!=1.8,!=1.8.1,<1.9.0,>=1.7.4 in /usr/local/lib/python3.7/dist-packages (from spacy) (1.8.2)\n",
            "Requirement already satisfied: setuptools in /usr/local/lib/python3.7/dist-packages (from spacy) (58.2.0)\n",
            "Requirement already satisfied: thinc<8.1.0,>=8.0.9 in /usr/local/lib/python3.7/dist-packages (from spacy) (8.0.10)\n",
            "Requirement already satisfied: wasabi<1.1.0,>=0.8.1 in /usr/local/lib/python3.7/dist-packages (from spacy) (0.8.2)\n",
            "Requirement already satisfied: preshed<3.1.0,>=3.0.2 in /usr/local/lib/python3.7/dist-packages (from spacy) (3.0.5)\n",
            "Requirement already satisfied: typing-extensions<4.0.0.0,>=3.7.4 in /usr/local/lib/python3.7/dist-packages (from spacy) (3.7.4.3)\n",
            "Requirement already satisfied: catalogue<2.1.0,>=2.0.6 in /usr/local/lib/python3.7/dist-packages (from spacy) (2.0.6)\n",
            "Requirement already satisfied: cymem<2.1.0,>=2.0.2 in /usr/local/lib/python3.7/dist-packages (from spacy) (2.0.5)\n",
            "Requirement already satisfied: spacy-legacy<3.1.0,>=3.0.8 in /usr/local/lib/python3.7/dist-packages (from spacy) (3.0.8)\n",
            "Requirement already satisfied: zipp>=0.5 in /usr/local/lib/python3.7/dist-packages (from catalogue<2.1.0,>=2.0.6->spacy) (3.6.0)\n",
            "Requirement already satisfied: pyparsing>=2.0.2 in /usr/local/lib/python3.7/dist-packages (from packaging>=20.0->spacy) (2.4.7)\n",
            "Requirement already satisfied: smart-open<6.0.0,>=5.0.0 in /usr/local/lib/python3.7/dist-packages (from pathy>=0.3.5->spacy) (5.2.1)\n",
            "Requirement already satisfied: chardet<4,>=3.0.2 in /usr/local/lib/python3.7/dist-packages (from requests<3.0.0,>=2.13.0->spacy) (3.0.4)\n",
            "Requirement already satisfied: idna<3,>=2.5 in /usr/local/lib/python3.7/dist-packages (from requests<3.0.0,>=2.13.0->spacy) (2.10)\n",
            "Requirement already satisfied: urllib3!=1.25.0,!=1.25.1,<1.26,>=1.21.1 in /usr/local/lib/python3.7/dist-packages (from requests<3.0.0,>=2.13.0->spacy) (1.24.3)\n",
            "Requirement already satisfied: certifi>=2017.4.17 in /usr/local/lib/python3.7/dist-packages (from requests<3.0.0,>=2.13.0->spacy) (2021.5.30)\n",
            "Requirement already satisfied: click<9.0.0,>=7.1.1 in /usr/local/lib/python3.7/dist-packages (from typer<0.5.0,>=0.3.0->spacy) (7.1.2)\n",
            "Requirement already satisfied: MarkupSafe>=0.23 in /usr/local/lib/python3.7/dist-packages (from jinja2->spacy) (2.0.1)\n",
            "\u001b[33mWARNING: Running pip as the 'root' user can result in broken permissions and conflicting behaviour with the system package manager. It is recommended to use a virtual environment instead: https://pip.pypa.io/warnings/venv\u001b[0m\n",
            "Collecting ja-core-news-sm==3.1.0\n",
            "  Using cached https://github.com/explosion/spacy-models/releases/download/ja_core_news_sm-3.1.0/ja_core_news_sm-3.1.0-py3-none-any.whl (12.9 MB)\n",
            "Requirement already satisfied: sudachipy>=0.4.9 in /usr/local/lib/python3.7/dist-packages (from ja-core-news-sm==3.1.0) (0.5.4)\n",
            "Requirement already satisfied: spacy<3.2.0,>=3.1.0 in /usr/local/lib/python3.7/dist-packages (from ja-core-news-sm==3.1.0) (3.1.3)\n",
            "Requirement already satisfied: sudachidict-core>=20200330 in /usr/local/lib/python3.7/dist-packages (from ja-core-news-sm==3.1.0) (20210802)\n",
            "Requirement already satisfied: murmurhash<1.1.0,>=0.28.0 in /usr/local/lib/python3.7/dist-packages (from spacy<3.2.0,>=3.1.0->ja-core-news-sm==3.1.0) (1.0.5)\n",
            "Requirement already satisfied: typer<0.5.0,>=0.3.0 in /usr/local/lib/python3.7/dist-packages (from spacy<3.2.0,>=3.1.0->ja-core-news-sm==3.1.0) (0.4.0)\n",
            "Requirement already satisfied: numpy>=1.15.0 in /usr/local/lib/python3.7/dist-packages (from spacy<3.2.0,>=3.1.0->ja-core-news-sm==3.1.0) (1.19.5)\n",
            "Requirement already satisfied: typing-extensions<4.0.0.0,>=3.7.4 in /usr/local/lib/python3.7/dist-packages (from spacy<3.2.0,>=3.1.0->ja-core-news-sm==3.1.0) (3.7.4.3)\n",
            "Requirement already satisfied: thinc<8.1.0,>=8.0.9 in /usr/local/lib/python3.7/dist-packages (from spacy<3.2.0,>=3.1.0->ja-core-news-sm==3.1.0) (8.0.10)\n",
            "Requirement already satisfied: tqdm<5.0.0,>=4.38.0 in /usr/local/lib/python3.7/dist-packages (from spacy<3.2.0,>=3.1.0->ja-core-news-sm==3.1.0) (4.62.3)\n",
            "Requirement already satisfied: setuptools in /usr/local/lib/python3.7/dist-packages (from spacy<3.2.0,>=3.1.0->ja-core-news-sm==3.1.0) (58.2.0)\n",
            "Requirement already satisfied: cymem<2.1.0,>=2.0.2 in /usr/local/lib/python3.7/dist-packages (from spacy<3.2.0,>=3.1.0->ja-core-news-sm==3.1.0) (2.0.5)\n",
            "Requirement already satisfied: requests<3.0.0,>=2.13.0 in /usr/local/lib/python3.7/dist-packages (from spacy<3.2.0,>=3.1.0->ja-core-news-sm==3.1.0) (2.23.0)\n",
            "Requirement already satisfied: blis<0.8.0,>=0.4.0 in /usr/local/lib/python3.7/dist-packages (from spacy<3.2.0,>=3.1.0->ja-core-news-sm==3.1.0) (0.4.1)\n",
            "Requirement already satisfied: preshed<3.1.0,>=3.0.2 in /usr/local/lib/python3.7/dist-packages (from spacy<3.2.0,>=3.1.0->ja-core-news-sm==3.1.0) (3.0.5)\n",
            "Requirement already satisfied: wasabi<1.1.0,>=0.8.1 in /usr/local/lib/python3.7/dist-packages (from spacy<3.2.0,>=3.1.0->ja-core-news-sm==3.1.0) (0.8.2)\n",
            "Requirement already satisfied: srsly<3.0.0,>=2.4.1 in /usr/local/lib/python3.7/dist-packages (from spacy<3.2.0,>=3.1.0->ja-core-news-sm==3.1.0) (2.4.1)\n",
            "Requirement already satisfied: pydantic!=1.8,!=1.8.1,<1.9.0,>=1.7.4 in /usr/local/lib/python3.7/dist-packages (from spacy<3.2.0,>=3.1.0->ja-core-news-sm==3.1.0) (1.8.2)\n",
            "Requirement already satisfied: spacy-legacy<3.1.0,>=3.0.8 in /usr/local/lib/python3.7/dist-packages (from spacy<3.2.0,>=3.1.0->ja-core-news-sm==3.1.0) (3.0.8)\n",
            "Requirement already satisfied: pathy>=0.3.5 in /usr/local/lib/python3.7/dist-packages (from spacy<3.2.0,>=3.1.0->ja-core-news-sm==3.1.0) (0.6.0)\n",
            "Requirement already satisfied: jinja2 in /usr/local/lib/python3.7/dist-packages (from spacy<3.2.0,>=3.1.0->ja-core-news-sm==3.1.0) (2.11.3)\n",
            "Requirement already satisfied: packaging>=20.0 in /usr/local/lib/python3.7/dist-packages (from spacy<3.2.0,>=3.1.0->ja-core-news-sm==3.1.0) (21.0)\n",
            "Requirement already satisfied: catalogue<2.1.0,>=2.0.6 in /usr/local/lib/python3.7/dist-packages (from spacy<3.2.0,>=3.1.0->ja-core-news-sm==3.1.0) (2.0.6)\n",
            "Requirement already satisfied: sortedcontainers~=2.1.0 in /usr/local/lib/python3.7/dist-packages (from sudachipy>=0.4.9->ja-core-news-sm==3.1.0) (2.1.0)\n",
            "Requirement already satisfied: dartsclone~=0.9.0 in /usr/local/lib/python3.7/dist-packages (from sudachipy>=0.4.9->ja-core-news-sm==3.1.0) (0.9.0)\n",
            "Requirement already satisfied: zipp>=0.5 in /usr/local/lib/python3.7/dist-packages (from catalogue<2.1.0,>=2.0.6->spacy<3.2.0,>=3.1.0->ja-core-news-sm==3.1.0) (3.6.0)\n",
            "Requirement already satisfied: Cython in /usr/local/lib/python3.7/dist-packages (from dartsclone~=0.9.0->sudachipy>=0.4.9->ja-core-news-sm==3.1.0) (0.29.24)\n",
            "Requirement already satisfied: pyparsing>=2.0.2 in /usr/local/lib/python3.7/dist-packages (from packaging>=20.0->spacy<3.2.0,>=3.1.0->ja-core-news-sm==3.1.0) (2.4.7)\n",
            "Requirement already satisfied: smart-open<6.0.0,>=5.0.0 in /usr/local/lib/python3.7/dist-packages (from pathy>=0.3.5->spacy<3.2.0,>=3.1.0->ja-core-news-sm==3.1.0) (5.2.1)\n",
            "Requirement already satisfied: chardet<4,>=3.0.2 in /usr/local/lib/python3.7/dist-packages (from requests<3.0.0,>=2.13.0->spacy<3.2.0,>=3.1.0->ja-core-news-sm==3.1.0) (3.0.4)\n",
            "Requirement already satisfied: idna<3,>=2.5 in /usr/local/lib/python3.7/dist-packages (from requests<3.0.0,>=2.13.0->spacy<3.2.0,>=3.1.0->ja-core-news-sm==3.1.0) (2.10)\n",
            "Requirement already satisfied: urllib3!=1.25.0,!=1.25.1,<1.26,>=1.21.1 in /usr/local/lib/python3.7/dist-packages (from requests<3.0.0,>=2.13.0->spacy<3.2.0,>=3.1.0->ja-core-news-sm==3.1.0) (1.24.3)\n",
            "Requirement already satisfied: certifi>=2017.4.17 in /usr/local/lib/python3.7/dist-packages (from requests<3.0.0,>=2.13.0->spacy<3.2.0,>=3.1.0->ja-core-news-sm==3.1.0) (2021.5.30)\n",
            "Requirement already satisfied: click<9.0.0,>=7.1.1 in /usr/local/lib/python3.7/dist-packages (from typer<0.5.0,>=0.3.0->spacy<3.2.0,>=3.1.0->ja-core-news-sm==3.1.0) (7.1.2)\n",
            "Requirement already satisfied: MarkupSafe>=0.23 in /usr/local/lib/python3.7/dist-packages (from jinja2->spacy<3.2.0,>=3.1.0->ja-core-news-sm==3.1.0) (2.0.1)\n",
            "\u001b[33mWARNING: Running pip as the 'root' user can result in broken permissions and conflicting behaviour with the system package manager. It is recommended to use a virtual environment instead: https://pip.pypa.io/warnings/venv\u001b[0m\n",
            "\u001b[38;5;2m✔ Download and installation successful\u001b[0m\n",
            "You can now load the package via spacy.load('ja_core_news_sm')\n"
          ]
        }
      ]
    },
    {
      "cell_type": "markdown",
      "metadata": {
        "id": "u0mRJHgKGefO"
      },
      "source": [
        "Removing stopwords"
      ]
    },
    {
      "cell_type": "code",
      "metadata": {
        "colab": {
          "base_uri": "https://localhost:8080/"
        },
        "id": "apvAwCqTEh94",
        "outputId": "56ead366-aa5f-420f-950c-6f8f21f153dd"
      },
      "source": [
        "import spacy\n",
        "\n",
        "nlp = spacy.load('ja_core_news_sm')\n",
        "stop_words_spacy = nlp.Defaults.stop_words\n",
        "print(len(stop_words_spacy))\n",
        "print(stop_words_spacy)"
      ],
      "execution_count": 2,
      "outputs": [
        {
          "output_type": "stream",
          "name": "stdout",
          "text": [
            "154\n",
            "{'しか', 'する', 'ごと', 'いわ', 'よく', 'さん', 'あ', 'お', 'かつて', 'すべて', 'いる', 'し', 'なかっ', 'そこ', 'いつ', 'え', 'か', 'た', 'ため', 'ながら', 'ず', 'たい', 'ら', 'だ', 'を', 'よる', 'かつ', 'こと', 'とも', 'つつ', 'らしい', 'つけ', 'ある', 'あり', 'ほぼ', 'もう', 'ま', 'ち', 'なり', 'せい', 'へ', 'で', 'な', 'まま', 'つ', 'です', 'もと', 'さらに', 'ここ', 'す', 'ほか', 'など', 'おり', 'ほとんど', '一', 'すぐ', 'だっ', 'あまり', 'よっ', 'かなり', 'せる', 'ところ', 'にて', 'ひと', 'ご', 'はじめ', 'また', 'こ', 'でき', 'られる', 'いう', 'しまっ', 'なお', 'ん', 'れ', 'この', 'しよう', 'あっ', 'および', 'これ', 'ね', 'とき', 'やっ', 'が', 'その', 'くる', 'だけ', 'から', 'よれ', 'あれ', 'ただし', 'くん', 'そして', 'べき', 'なら', 'は', 'まで', 'おけ', 'なく', 'ほど', 'き', 'そう', 'に', 'なっ', 'つい', 'て', 'よう', 'こう', 'もの', 'おら', 'も', 'あるいは', 'たり', 'もっ', 'しかし', 'いっ', 'ます', 'せ', 'より', 'かけ', 'いい', 'しまう', 'や', 'ば', 'み', 'とっ', 'うち', 'たら', 'られ', 'きっかけ', 'それぞれ', 'いずれ', 'ない', 'どう', 'たち', 'いく', 'おい', 'と', 'なる', 'よ', 'い', 'さ', 'れる', 'る', 'ちゃん', 'できる', 'の', 'のち', 'ぶり', 'なけれ', 'ぬ', 'それ', 'のみ', 'なし'}\n"
          ]
        }
      ]
    },
    {
      "cell_type": "code",
      "metadata": {
        "colab": {
          "base_uri": "https://localhost:8080/"
        },
        "id": "pwrehuGrGbqx",
        "outputId": "ac56ff74-b038-4c61-9222-bc9d5e6d6a14"
      },
      "source": [
        "tokenized_text_spacy = nlp(japanese_text)\n",
        "tokenized_text_without_stopwords = [i for i in tokenized_text_spacy if not i in stop_words_spacy]\n",
        "print(tokenized_text_without_stopwords)"
      ],
      "execution_count": 5,
      "outputs": [
        {
          "output_type": "stream",
          "name": "stdout",
          "text": [
            "[$, 100, ベット, し, て, い, た, 場合, に, は, $, 100, の, 配当, を, 得, られる, 。, \n",
            "    , なお, 、, 100, 形, の, うち, 101, -, 110, の, 10, 両, は, 当時, 丸ノ内, 線, 方南町, 支線, 用, で, あり, 、, これ, の, 代替, に, は, 1500, N, 形, 投入, に, より, 2000, 形, を, 10, 両, (, 2031, -, 2040, ), 捻出, し, て, 対応, し, て, いる, 。, \n",
            "    , コンセプト, は, 「, 100, 時間, 遊べる, おまけ, 」, 。, \n",
            "    , なお, 100, 系, 1, ･, 2, 次, 車, の, 床面, 高, さ, は, 従前, 通り, の, 1150, mm, で, ある, 。, \n",
            "    , ゴチ, 10, ・, 12, ・, 15, で, は, MC, を, 担当, 。, \n",
            "    , !, 101, 番, 目, の, 魔物, （, 大海, 恵, ）, 2005, 年, *, 劇場, 版, 金, 色, の, ガッシュベル, !, \n",
            "    , 1088, 年, に, 誕生, し, た, 人物, 及び, 著名, な, 動物, 。]\n"
          ]
        }
      ]
    },
    {
      "cell_type": "markdown",
      "metadata": {
        "id": "mywO8_YjJXXr"
      },
      "source": [
        "Removing punctuation"
      ]
    },
    {
      "cell_type": "code",
      "metadata": {
        "colab": {
          "base_uri": "https://localhost:8080/"
        },
        "id": "3g4dBNDwgMHy",
        "outputId": "018be6c5-7b08-4cd8-95a0-916bc22b5f1f"
      },
      "source": [
        "import spacy\n",
        "for word in tokenized_text_without_stopwords:\n",
        "    if word.is_punct:\n",
        "        print(word, word.lemma_, word.pos_)"
      ],
      "execution_count": 16,
      "outputs": [
        {
          "output_type": "stream",
          "name": "stdout",
          "text": [
            "。 。 PUNCT\n",
            "、 、 PUNCT\n",
            "- － SYM\n",
            "、 、 PUNCT\n",
            "( （ PUNCT\n",
            "- － SYM\n",
            ") ) PUNCT\n",
            "。 。 PUNCT\n",
            "「 「 PUNCT\n",
            "」 」 PUNCT\n",
            "。 。 PUNCT\n",
            "･ ・ SYM\n",
            "。 。 PUNCT\n",
            "・ ・ SYM\n",
            "・ ・ SYM\n",
            "。 。 PUNCT\n",
            "! ! PUNCT\n",
            "（ （ PUNCT\n",
            "） ) PUNCT\n",
            "* ＊ SYM\n",
            "! ! PUNCT\n",
            "。 。 PUNCT\n"
          ]
        }
      ]
    },
    {
      "cell_type": "code",
      "metadata": {
        "colab": {
          "base_uri": "https://localhost:8080/"
        },
        "id": "hO2krQx8JZZe",
        "outputId": "40d9bbd6-9052-4009-aa8b-ae729adb2119"
      },
      "source": [
        "for word in tokenized_text_without_stopwords:\n",
        "    if word.is_punct == False:\n",
        "        print(word, word.lemma_, word.pos_)"
      ],
      "execution_count": 17,
      "outputs": [
        {
          "output_type": "stream",
          "name": "stdout",
          "text": [
            "$ $ SYM\n",
            "100 100 NUM\n",
            "ベット ベット NOUN\n",
            "し する AUX\n",
            "て て SCONJ\n",
            "い いる AUX\n",
            "た た AUX\n",
            "場合 場合 NOUN\n",
            "に に ADP\n",
            "は は ADP\n",
            "$ $ SYM\n",
            "100 100 NUM\n",
            "の の ADP\n",
            "配当 配当 NOUN\n",
            "を を ADP\n",
            "得 得る VERB\n",
            "られる られる AUX\n",
            "\n",
            "     \n",
            "     SPACE\n",
            "なお なお CCONJ\n",
            "100 100 NUM\n",
            "形 形 NOUN\n",
            "の の ADP\n",
            "うち うち NOUN\n",
            "101 101 NUM\n",
            "110 110 NUM\n",
            "の の ADP\n",
            "10 10 NUM\n",
            "両 両 NOUN\n",
            "は は ADP\n",
            "当時 当時 NOUN\n",
            "丸ノ内 丸ノ内 PROPN\n",
            "線 線 NOUN\n",
            "方南町 方南町 PROPN\n",
            "支線 支線 NOUN\n",
            "用 用 NOUN\n",
            "で だ AUX\n",
            "あり ある AUX\n",
            "これ これ PRON\n",
            "の の ADP\n",
            "代替 代替 NOUN\n",
            "に に ADP\n",
            "は は ADP\n",
            "1500 1500 NUM\n",
            "N N NOUN\n",
            "形 形 NOUN\n",
            "投入 投入 NOUN\n",
            "に に ADP\n",
            "より よる VERB\n",
            "2000 2000 NUM\n",
            "形 形 NOUN\n",
            "を を ADP\n",
            "10 10 NUM\n",
            "両 両 NOUN\n",
            "2031 2031 NUM\n",
            "2040 2040 NUM\n",
            "捻出 捻出 VERB\n",
            "し する AUX\n",
            "て て SCONJ\n",
            "対応 対応 VERB\n",
            "し する AUX\n",
            "て て SCONJ\n",
            "いる いる AUX\n",
            "\n",
            "     \n",
            "     SPACE\n",
            "コンセプト コンセプト NOUN\n",
            "は は ADP\n",
            "100 100 NUM\n",
            "時間 時間 NOUN\n",
            "遊べる 遊べる VERB\n",
            "おまけ おまけ NOUN\n",
            "\n",
            "     \n",
            "     SPACE\n",
            "なお なお CCONJ\n",
            "100 100 NUM\n",
            "系 系 NOUN\n",
            "1 1 NUM\n",
            "2 2 NUM\n",
            "次 次 NOUN\n",
            "車 車 NOUN\n",
            "の の ADP\n",
            "床面 床面 NOUN\n",
            "高 高い ADJ\n",
            "さ さ PART\n",
            "は は ADP\n",
            "従前 従前 NOUN\n",
            "通り 通り NOUN\n",
            "の の ADP\n",
            "1150 1150 NUM\n",
            "mm mm NOUN\n",
            "で だ AUX\n",
            "ある ある AUX\n",
            "\n",
            "     \n",
            "     SPACE\n",
            "ゴチ ゴチ NOUN\n",
            "10 10 NUM\n",
            "12 12 NUM\n",
            "15 15 NUM\n",
            "で で ADP\n",
            "は は ADP\n",
            "MC MC NOUN\n",
            "を を ADP\n",
            "担当 担当 NOUN\n",
            "\n",
            "     \n",
            "     SPACE\n",
            "101 101 NUM\n",
            "番 番 NOUN\n",
            "目 目 NOUN\n",
            "の の ADP\n",
            "魔物 魔物 NOUN\n",
            "大海 大海 PROPN\n",
            "恵 恵 PROPN\n",
            "2005 2005 NUM\n",
            "年 年 NOUN\n",
            "劇場 劇場 NOUN\n",
            "版 版 NOUN\n",
            "金 金 NOUN\n",
            "色 色 NOUN\n",
            "の の ADP\n",
            "ガッシュベル ガッシュベル NOUN\n",
            "\n",
            "     \n",
            "     SPACE\n",
            "1088 1088 NUM\n",
            "年 年 NOUN\n",
            "に に ADP\n",
            "誕生 誕生 VERB\n",
            "し する AUX\n",
            "た た AUX\n",
            "人物 人物 NOUN\n",
            "及び 及び CCONJ\n",
            "著名 著名 ADJ\n",
            "な だ AUX\n",
            "動物 動物 NOUN\n"
          ]
        }
      ]
    },
    {
      "cell_type": "markdown",
      "metadata": {
        "id": "vgozL531Z2Ju"
      },
      "source": [
        "# Assignment\n",
        "\n",
        "To be uploaded here: https://forms.gle/wLsjCWnxK7w8GPvt9\n",
        "\n",
        "Choose samples from 2 languages and preprocess the texts (tokenization, lematization, etc.).\n",
        "\n",
        "Try to use spacy or find other resources and tools for your specific language.\n",
        "\n",
        "Also mention if the language you have choosen needs specific preprocessing.\n",
        "\n",
        "## Data\n",
        "\n",
        "Data can be downloaded from the resources below."
      ]
    },
    {
      "cell_type": "markdown",
      "metadata": {
        "id": "PNPLCHObe0O5"
      },
      "source": [
        "Resources:\n",
        "\n",
        "* [An Crúbadán - Corpus Building for Minority Languages - 18721 languages](http://crubadan.org/)\n",
        "* [Leipzig Corpora Collection / Deutscher Wortschatz 291 languages](https://wortschatz.uni-leipzig.de/en/download)\n",
        "* [Europarl](https://www.statmt.org/europarl/)\n",
        "\n",
        "\n",
        "\n",
        "Further reading:\n",
        "\n",
        "* [A Survey of Approaches to Diacritic Restoration](https://www.researchgate.net/profile/Franklin-Asahiah/publication/328419851_A_Survey_of_Approaches_to_Diacritic_Restoration/links/5bcd8b67458515f7d9d02f3d/A-Survey-of-Approaches-to-Diacritic-Restoration.pdf)\n",
        "* [Preprocessing Arabic text on social media](https://www.sciencedirect.com/science/article/pii/S2405844021002966)\n",
        "* [Semantic-Based Segmentation of Arabic Texts](https://scialert.net/fulltext/?doi=itj.2008.1009.1015)\n",
        "* [The case of Croatian](https://medium.com/krakensystems-blog/text-processing-problems-with-non-english-languages-82822d0945dd)\n",
        "\n",
        "\n",
        "\n",
        "\n",
        "\n",
        "\n"
      ]
    }
  ]
}